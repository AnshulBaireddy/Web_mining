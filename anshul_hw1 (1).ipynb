{
  "cells": [
    {
      "cell_type": "markdown",
      "metadata": {
        "id": "Of6o7iwB0pfh"
      },
      "source": [
        "# <center>HW #1</center>"
      ]
    },
    {
      "cell_type": "markdown",
      "metadata": {
        "id": "o2_xQ03i0pfj"
      },
      "source": [
        "<div class=\"alert alert-block alert-warning\">Each assignment needs to be completed independently. Never ever copy others' work (even with minor modification, e.g. changing variable names). Anti-Plagiarism software will be used to check all submissions. </div>"
      ]
    },
    {
      "cell_type": "markdown",
      "metadata": {
        "id": "J7i0QZK20pfk"
      },
      "source": [
        "**Instructions**: \n",
        "- Please read the problem description carefully\n",
        "- Make sure to complete all requirements (shown as bullets) . In general, it would be much easier if you complete the requirements in the order as shown in the problem description\n"
      ]
    },
    {
      "cell_type": "markdown",
      "metadata": {
        "id": "d77cc5Rx0pfk"
      },
      "source": [
        "**Problem Description**\n",
        "\n",
        "In this assignment, you'll write functions to analyze an article to find out the word distributions and key concepts. \n",
        "\n",
        "The packages you'll need for this assignment include numpy and pandas."
      ]
    },
    {
      "cell_type": "markdown",
      "metadata": {
        "id": "zKmWVK_M0pfl"
      },
      "source": [
        "## Q1. Define a function to analyze word counts in an input sentence \n",
        "\n",
        "\n",
        "Define a function named `tokenize(text)` which does the following:\n",
        "* accepts a sentence (i.e., `text` parameter) as an input\n",
        "* splits the sentence into a list of tokens by **space** (including tab, and new line). \n",
        "    - e.g., `it's a hello world!!!` will be split into tokens `[\"it's\", \"a\",\"hello\",\"world!!!\"]`  \n",
        "* removes the **leading/trailing punctuations or spaces** of each token, if any\n",
        "    - e.g., `world!!! -> world`, while `it's` does not change\n",
        "    - hint, you can import module *string*, use `string.punctuation` to get a list of punctuations (say `puncts`), and then use function `strip(puncts)` to remove leading or trailing punctuations in each token\n",
        "* only keeps tokens with 2 or more characters, i.e. `len(token)>1` \n",
        "* converts all tokens into lower case \n",
        "* find the count of each unique token and save the counts as dictionary, i.e., `{world: 1, a: 1, ...}`\n",
        "* returns the dictionary \n",
        "    "
      ]
    },
    {
      "cell_type": "code",
      "execution_count": 22,
      "metadata": {
        "id": "R7b2sBTX0pfl"
      },
      "outputs": [],
      "source": [
        "import string\n",
        "import pandas as pd\n",
        "import numpy as np\n",
        "\n",
        "from IPython.core.interactiveshell import InteractiveShell\n",
        "InteractiveShell.ast_node_interactivity = \"all\""
      ]
    },
    {
      "cell_type": "code",
      "execution_count": 23,
      "metadata": {
        "id": "haf8k4vZ0pfm"
      },
      "outputs": [],
      "source": [
        "def tokenize(text):\n",
        "    \n",
        "    # initialize a list\n",
        "    \n",
        "    lisq1=[]\n",
        "    \n",
        "\n",
        "    # split by space (including \\tab and \\n)\n",
        "    listq1 = text.split(\" \")\n",
        "    \n",
        "    \n",
        "    # clean up tokens\n",
        "\n",
        "    new_inputs = []\n",
        "    for inputs in listq1:\n",
        "      for letter in inputs:\n",
        "        if letter in string.punctuation:\n",
        "          inputs = inputs.replace(letter,\" \")\n",
        "\n",
        "      if len(inputs)>1:\n",
        "        new_inputs.append(inputs.lower().strip())\n",
        "       \n",
        "    #dictionary initialize\n",
        "\n",
        "    vocab={}\n",
        "\n",
        "    for x in new_inputs:\n",
        "      if x in vocab:\n",
        "        vocab[x]+=1\n",
        "      else:\n",
        "        vocab[x]=1\n",
        "\n",
        "    return vocab\n"
      ]
    },
    {
      "cell_type": "code",
      "execution_count": 24,
      "metadata": {
        "colab": {
          "base_uri": "https://localhost:8080/"
        },
        "id": "1SEq3UWF0pfn",
        "outputId": "2a556e9e-1683-4c21-9e01-d2b23e9743a2"
      },
      "outputs": [
        {
          "output_type": "execute_result",
          "data": {
            "text/plain": [
              "{'it s': 1, 'hello': 2, 'world': 2, 'it': 1, 'is': 1, 'again': 1}"
            ]
          },
          "metadata": {},
          "execution_count": 24
        }
      ],
      "source": [
        "# test your code\n",
        "text = \"\"\"it's a hello world!!!\n",
        "           it is hello world again.\"\"\"\n",
        "tokenize(text)"
      ]
    },
    {
      "cell_type": "code",
      "source": [],
      "metadata": {
        "id": "MGksCSy2hMdj"
      },
      "execution_count": null,
      "outputs": []
    },
    {
      "cell_type": "markdown",
      "metadata": {
        "id": "tU0OTrST0pfo"
      },
      "source": [
        "## Q2. Generate a document term matrix (DTM) as a numpy array\n",
        "\n",
        "\n",
        "Define a function `get_dtm(sents)` as follows:\n",
        "- accepts a list of sentences, i.e., `sents`, as an input\n",
        "- uses `tokenize` function you defined in Q1 to get the count dictionary for each sentence\n",
        "- pools the words from all the strings togehter to get a list of  unique words, denoted as `unique_words`\n",
        "- creates a numpy array, say `dtm` with a shape (# of docs x # of unique words), and set the initial values to 0.\n",
        "- fills cell `dtm[i,j]` with the count of the `j`th word in the `i`th sentence\n",
        "- returns `dtm` and `unique_words`"
      ]
    },
    {
      "cell_type": "code",
      "execution_count": 27,
      "metadata": {
        "id": "vivlzFxM0pfo"
      },
      "outputs": [],
      "source": [
        "def get_dtm(sents):\n",
        "\n",
        "\n",
        "    dict1 = {}\n",
        "    for i in sents:\n",
        "      dict1.update(tokenize(i))\n",
        "    unique_words = list(dict1.keys())\n",
        "    \n",
        "    dtm = np.zeros([len(sents),len(unique_words)])\n",
        "\n",
        "    # process each sentence\n",
        "    for i in range(len(sents)):\n",
        "      t=tokenize(sents[i])\n",
        "      for j in range(len(unique_words)):\n",
        "        if unique_words[j] in t:\n",
        "          dtm[i][j] = t[unique_words[j]]\n",
        "    \n",
        "    \n",
        "  \n",
        "    \n",
        "    \n",
        "    \n",
        "    \n",
        "    \n",
        "    return dtm, unique_words"
      ]
    },
    {
      "cell_type": "code",
      "source": [],
      "metadata": {
        "id": "_xDsixX87pj4"
      },
      "execution_count": null,
      "outputs": []
    },
    {
      "cell_type": "code",
      "source": [
        "from google.colab import files\n",
        "data_to_load = files.upload()"
      ],
      "metadata": {
        "colab": {
          "base_uri": "https://localhost:8080/",
          "height": 73
        },
        "id": "bijmysihYTAL",
        "outputId": "c01fb6c3-d813-418a-a3ec-0310afb5f96c"
      },
      "execution_count": 28,
      "outputs": [
        {
          "output_type": "display_data",
          "data": {
            "text/plain": [
              "<IPython.core.display.HTML object>"
            ],
            "text/html": [
              "\n",
              "     <input type=\"file\" id=\"files-3cc2518e-828d-4bd9-8e27-599247290d59\" name=\"files[]\" multiple disabled\n",
              "        style=\"border:none\" />\n",
              "     <output id=\"result-3cc2518e-828d-4bd9-8e27-599247290d59\">\n",
              "      Upload widget is only available when the cell has been executed in the\n",
              "      current browser session. Please rerun this cell to enable.\n",
              "      </output>\n",
              "      <script>// Copyright 2017 Google LLC\n",
              "//\n",
              "// Licensed under the Apache License, Version 2.0 (the \"License\");\n",
              "// you may not use this file except in compliance with the License.\n",
              "// You may obtain a copy of the License at\n",
              "//\n",
              "//      http://www.apache.org/licenses/LICENSE-2.0\n",
              "//\n",
              "// Unless required by applicable law or agreed to in writing, software\n",
              "// distributed under the License is distributed on an \"AS IS\" BASIS,\n",
              "// WITHOUT WARRANTIES OR CONDITIONS OF ANY KIND, either express or implied.\n",
              "// See the License for the specific language governing permissions and\n",
              "// limitations under the License.\n",
              "\n",
              "/**\n",
              " * @fileoverview Helpers for google.colab Python module.\n",
              " */\n",
              "(function(scope) {\n",
              "function span(text, styleAttributes = {}) {\n",
              "  const element = document.createElement('span');\n",
              "  element.textContent = text;\n",
              "  for (const key of Object.keys(styleAttributes)) {\n",
              "    element.style[key] = styleAttributes[key];\n",
              "  }\n",
              "  return element;\n",
              "}\n",
              "\n",
              "// Max number of bytes which will be uploaded at a time.\n",
              "const MAX_PAYLOAD_SIZE = 100 * 1024;\n",
              "\n",
              "function _uploadFiles(inputId, outputId) {\n",
              "  const steps = uploadFilesStep(inputId, outputId);\n",
              "  const outputElement = document.getElementById(outputId);\n",
              "  // Cache steps on the outputElement to make it available for the next call\n",
              "  // to uploadFilesContinue from Python.\n",
              "  outputElement.steps = steps;\n",
              "\n",
              "  return _uploadFilesContinue(outputId);\n",
              "}\n",
              "\n",
              "// This is roughly an async generator (not supported in the browser yet),\n",
              "// where there are multiple asynchronous steps and the Python side is going\n",
              "// to poll for completion of each step.\n",
              "// This uses a Promise to block the python side on completion of each step,\n",
              "// then passes the result of the previous step as the input to the next step.\n",
              "function _uploadFilesContinue(outputId) {\n",
              "  const outputElement = document.getElementById(outputId);\n",
              "  const steps = outputElement.steps;\n",
              "\n",
              "  const next = steps.next(outputElement.lastPromiseValue);\n",
              "  return Promise.resolve(next.value.promise).then((value) => {\n",
              "    // Cache the last promise value to make it available to the next\n",
              "    // step of the generator.\n",
              "    outputElement.lastPromiseValue = value;\n",
              "    return next.value.response;\n",
              "  });\n",
              "}\n",
              "\n",
              "/**\n",
              " * Generator function which is called between each async step of the upload\n",
              " * process.\n",
              " * @param {string} inputId Element ID of the input file picker element.\n",
              " * @param {string} outputId Element ID of the output display.\n",
              " * @return {!Iterable<!Object>} Iterable of next steps.\n",
              " */\n",
              "function* uploadFilesStep(inputId, outputId) {\n",
              "  const inputElement = document.getElementById(inputId);\n",
              "  inputElement.disabled = false;\n",
              "\n",
              "  const outputElement = document.getElementById(outputId);\n",
              "  outputElement.innerHTML = '';\n",
              "\n",
              "  const pickedPromise = new Promise((resolve) => {\n",
              "    inputElement.addEventListener('change', (e) => {\n",
              "      resolve(e.target.files);\n",
              "    });\n",
              "  });\n",
              "\n",
              "  const cancel = document.createElement('button');\n",
              "  inputElement.parentElement.appendChild(cancel);\n",
              "  cancel.textContent = 'Cancel upload';\n",
              "  const cancelPromise = new Promise((resolve) => {\n",
              "    cancel.onclick = () => {\n",
              "      resolve(null);\n",
              "    };\n",
              "  });\n",
              "\n",
              "  // Wait for the user to pick the files.\n",
              "  const files = yield {\n",
              "    promise: Promise.race([pickedPromise, cancelPromise]),\n",
              "    response: {\n",
              "      action: 'starting',\n",
              "    }\n",
              "  };\n",
              "\n",
              "  cancel.remove();\n",
              "\n",
              "  // Disable the input element since further picks are not allowed.\n",
              "  inputElement.disabled = true;\n",
              "\n",
              "  if (!files) {\n",
              "    return {\n",
              "      response: {\n",
              "        action: 'complete',\n",
              "      }\n",
              "    };\n",
              "  }\n",
              "\n",
              "  for (const file of files) {\n",
              "    const li = document.createElement('li');\n",
              "    li.append(span(file.name, {fontWeight: 'bold'}));\n",
              "    li.append(span(\n",
              "        `(${file.type || 'n/a'}) - ${file.size} bytes, ` +\n",
              "        `last modified: ${\n",
              "            file.lastModifiedDate ? file.lastModifiedDate.toLocaleDateString() :\n",
              "                                    'n/a'} - `));\n",
              "    const percent = span('0% done');\n",
              "    li.appendChild(percent);\n",
              "\n",
              "    outputElement.appendChild(li);\n",
              "\n",
              "    const fileDataPromise = new Promise((resolve) => {\n",
              "      const reader = new FileReader();\n",
              "      reader.onload = (e) => {\n",
              "        resolve(e.target.result);\n",
              "      };\n",
              "      reader.readAsArrayBuffer(file);\n",
              "    });\n",
              "    // Wait for the data to be ready.\n",
              "    let fileData = yield {\n",
              "      promise: fileDataPromise,\n",
              "      response: {\n",
              "        action: 'continue',\n",
              "      }\n",
              "    };\n",
              "\n",
              "    // Use a chunked sending to avoid message size limits. See b/62115660.\n",
              "    let position = 0;\n",
              "    do {\n",
              "      const length = Math.min(fileData.byteLength - position, MAX_PAYLOAD_SIZE);\n",
              "      const chunk = new Uint8Array(fileData, position, length);\n",
              "      position += length;\n",
              "\n",
              "      const base64 = btoa(String.fromCharCode.apply(null, chunk));\n",
              "      yield {\n",
              "        response: {\n",
              "          action: 'append',\n",
              "          file: file.name,\n",
              "          data: base64,\n",
              "        },\n",
              "      };\n",
              "\n",
              "      let percentDone = fileData.byteLength === 0 ?\n",
              "          100 :\n",
              "          Math.round((position / fileData.byteLength) * 100);\n",
              "      percent.textContent = `${percentDone}% done`;\n",
              "\n",
              "    } while (position < fileData.byteLength);\n",
              "  }\n",
              "\n",
              "  // All done.\n",
              "  yield {\n",
              "    response: {\n",
              "      action: 'complete',\n",
              "    }\n",
              "  };\n",
              "}\n",
              "\n",
              "scope.google = scope.google || {};\n",
              "scope.google.colab = scope.google.colab || {};\n",
              "scope.google.colab._files = {\n",
              "  _uploadFiles,\n",
              "  _uploadFilesContinue,\n",
              "};\n",
              "})(self);\n",
              "</script> "
            ]
          },
          "metadata": {}
        },
        {
          "output_type": "stream",
          "name": "stdout",
          "text": [
            "Saving sents.csv to sents (3).csv\n"
          ]
        }
      ]
    },
    {
      "cell_type": "code",
      "execution_count": 29,
      "metadata": {
        "colab": {
          "base_uri": "https://localhost:8080/",
          "height": 204
        },
        "id": "YxXgeZrV0pfp",
        "outputId": "48b65f73-1221-4a0a-f8dd-a9892e91eefd"
      },
      "outputs": [
        {
          "output_type": "execute_result",
          "data": {
            "text/plain": [
              "                                                text\n",
              "0          The Power of Natural Language Processing.\n",
              "1  Until recently, the conventional wisdom was th...\n",
              "2  But in the past two years language-based AI ha...\n",
              "3  It has been used to write an article for The G...\n",
              "4  AI even excels at cognitive tasks like program..."
            ],
            "text/html": [
              "\n",
              "  <div id=\"df-b6fbb47b-94bb-47b2-83e7-542a149c0137\">\n",
              "    <div class=\"colab-df-container\">\n",
              "      <div>\n",
              "<style scoped>\n",
              "    .dataframe tbody tr th:only-of-type {\n",
              "        vertical-align: middle;\n",
              "    }\n",
              "\n",
              "    .dataframe tbody tr th {\n",
              "        vertical-align: top;\n",
              "    }\n",
              "\n",
              "    .dataframe thead th {\n",
              "        text-align: right;\n",
              "    }\n",
              "</style>\n",
              "<table border=\"1\" class=\"dataframe\">\n",
              "  <thead>\n",
              "    <tr style=\"text-align: right;\">\n",
              "      <th></th>\n",
              "      <th>text</th>\n",
              "    </tr>\n",
              "  </thead>\n",
              "  <tbody>\n",
              "    <tr>\n",
              "      <th>0</th>\n",
              "      <td>The Power of Natural Language Processing.</td>\n",
              "    </tr>\n",
              "    <tr>\n",
              "      <th>1</th>\n",
              "      <td>Until recently, the conventional wisdom was th...</td>\n",
              "    </tr>\n",
              "    <tr>\n",
              "      <th>2</th>\n",
              "      <td>But in the past two years language-based AI ha...</td>\n",
              "    </tr>\n",
              "    <tr>\n",
              "      <th>3</th>\n",
              "      <td>It has been used to write an article for The G...</td>\n",
              "    </tr>\n",
              "    <tr>\n",
              "      <th>4</th>\n",
              "      <td>AI even excels at cognitive tasks like program...</td>\n",
              "    </tr>\n",
              "  </tbody>\n",
              "</table>\n",
              "</div>\n",
              "      <button class=\"colab-df-convert\" onclick=\"convertToInteractive('df-b6fbb47b-94bb-47b2-83e7-542a149c0137')\"\n",
              "              title=\"Convert this dataframe to an interactive table.\"\n",
              "              style=\"display:none;\">\n",
              "        \n",
              "  <svg xmlns=\"http://www.w3.org/2000/svg\" height=\"24px\"viewBox=\"0 0 24 24\"\n",
              "       width=\"24px\">\n",
              "    <path d=\"M0 0h24v24H0V0z\" fill=\"none\"/>\n",
              "    <path d=\"M18.56 5.44l.94 2.06.94-2.06 2.06-.94-2.06-.94-.94-2.06-.94 2.06-2.06.94zm-11 1L8.5 8.5l.94-2.06 2.06-.94-2.06-.94L8.5 2.5l-.94 2.06-2.06.94zm10 10l.94 2.06.94-2.06 2.06-.94-2.06-.94-.94-2.06-.94 2.06-2.06.94z\"/><path d=\"M17.41 7.96l-1.37-1.37c-.4-.4-.92-.59-1.43-.59-.52 0-1.04.2-1.43.59L10.3 9.45l-7.72 7.72c-.78.78-.78 2.05 0 2.83L4 21.41c.39.39.9.59 1.41.59.51 0 1.02-.2 1.41-.59l7.78-7.78 2.81-2.81c.8-.78.8-2.07 0-2.86zM5.41 20L4 18.59l7.72-7.72 1.47 1.35L5.41 20z\"/>\n",
              "  </svg>\n",
              "      </button>\n",
              "      \n",
              "  <style>\n",
              "    .colab-df-container {\n",
              "      display:flex;\n",
              "      flex-wrap:wrap;\n",
              "      gap: 12px;\n",
              "    }\n",
              "\n",
              "    .colab-df-convert {\n",
              "      background-color: #E8F0FE;\n",
              "      border: none;\n",
              "      border-radius: 50%;\n",
              "      cursor: pointer;\n",
              "      display: none;\n",
              "      fill: #1967D2;\n",
              "      height: 32px;\n",
              "      padding: 0 0 0 0;\n",
              "      width: 32px;\n",
              "    }\n",
              "\n",
              "    .colab-df-convert:hover {\n",
              "      background-color: #E2EBFA;\n",
              "      box-shadow: 0px 1px 2px rgba(60, 64, 67, 0.3), 0px 1px 3px 1px rgba(60, 64, 67, 0.15);\n",
              "      fill: #174EA6;\n",
              "    }\n",
              "\n",
              "    [theme=dark] .colab-df-convert {\n",
              "      background-color: #3B4455;\n",
              "      fill: #D2E3FC;\n",
              "    }\n",
              "\n",
              "    [theme=dark] .colab-df-convert:hover {\n",
              "      background-color: #434B5C;\n",
              "      box-shadow: 0px 1px 3px 1px rgba(0, 0, 0, 0.15);\n",
              "      filter: drop-shadow(0px 1px 2px rgba(0, 0, 0, 0.3));\n",
              "      fill: #FFFFFF;\n",
              "    }\n",
              "  </style>\n",
              "\n",
              "      <script>\n",
              "        const buttonEl =\n",
              "          document.querySelector('#df-b6fbb47b-94bb-47b2-83e7-542a149c0137 button.colab-df-convert');\n",
              "        buttonEl.style.display =\n",
              "          google.colab.kernel.accessAllowed ? 'block' : 'none';\n",
              "\n",
              "        async function convertToInteractive(key) {\n",
              "          const element = document.querySelector('#df-b6fbb47b-94bb-47b2-83e7-542a149c0137');\n",
              "          const dataTable =\n",
              "            await google.colab.kernel.invokeFunction('convertToInteractive',\n",
              "                                                     [key], {});\n",
              "          if (!dataTable) return;\n",
              "\n",
              "          const docLinkHtml = 'Like what you see? Visit the ' +\n",
              "            '<a target=\"_blank\" href=https://colab.research.google.com/notebooks/data_table.ipynb>data table notebook</a>'\n",
              "            + ' to learn more about interactive tables.';\n",
              "          element.innerHTML = '';\n",
              "          dataTable['output_type'] = 'display_data';\n",
              "          await google.colab.output.renderOutput(dataTable, element);\n",
              "          const docLink = document.createElement('div');\n",
              "          docLink.innerHTML = docLinkHtml;\n",
              "          element.appendChild(docLink);\n",
              "        }\n",
              "      </script>\n",
              "    </div>\n",
              "  </div>\n",
              "  "
            ]
          },
          "metadata": {},
          "execution_count": 29
        }
      ],
      "source": [
        "# A test document. This document can be found at https://hbr.org/2022/04/the-power-of-natural-language-processing\n",
        "\n",
        "sents = pd.read_csv(\"sents.csv\")\n",
        "sents.head()"
      ]
    },
    {
      "cell_type": "code",
      "execution_count": 31,
      "metadata": {
        "colab": {
          "base_uri": "https://localhost:8080/"
        },
        "id": "k4Gr-QnB0pfp",
        "outputId": "c28eab65-c63d-45ac-c9a4-4a79d175c5e5"
      },
      "outputs": [
        {
          "output_type": "stream",
          "name": "stdout",
          "text": [
            "[('ago', 1), ('ai authored', 1), ('an', 1), ('and', 1), ('article', 1), ('been', 1), ('blog', 1), ('feats', 1), ('few', 1), ('for', 1), ('gone', 1), ('guardian', 1), ('has', 1), ('have', 1), ('it', 1), ('possible', 1), ('posts', 1), ('that', 1), ('the', 1), ('to', 1), ('used', 1), ('viral', 1), ('weren’t', 1), ('write', 1), ('years', 1)]\n"
          ]
        },
        {
          "output_type": "execute_result",
          "data": {
            "text/plain": [
              "text    It has been used to write an article for The G...\n",
              "Name: 3, dtype: object"
            ]
          },
          "metadata": {},
          "execution_count": 31
        },
        {
          "output_type": "stream",
          "name": "stdout",
          "text": [
            "[('ago', 1.0), ('ai authored', 1.0), ('an', 1.0), ('and', 1.0), ('article', 1.0), ('been', 1.0), ('blog', 1.0), ('feats', 1.0), ('few', 1.0), ('for', 1.0), ('gone', 1.0), ('guardian', 1.0), ('has', 1.0), ('have', 1.0), ('it', 1.0), ('possible', 1.0), ('posts', 1.0), ('that', 1.0), ('the', 1.0), ('to', 1.0), ('used', 1.0), ('viral', 1.0), ('weren’t', 1.0), ('write', 1.0), ('years', 1.0)]\n"
          ]
        }
      ],
      "source": [
        "dtm, all_words = get_dtm(sents.text)\n",
        "\n",
        "# Check if the array is correct\n",
        "\n",
        "# randomly check one sentence\n",
        "idx = 3\n",
        "\n",
        "# get the dictionary using the function in Q1\n",
        "vocab = tokenize(sents[\"text\"].loc[idx])\n",
        "print(sorted(vocab.items(), key = lambda item: item[0]))\n",
        "\n",
        "# get all non-zero entries in dtm[idx] and create a dictionary\n",
        "# these two dictionaries should be the same\n",
        "sents.loc[idx]\n",
        "vocab1 ={all_words[j]: dtm[idx][j] for j in np.where(dtm[idx]>0)[0]}\n",
        "print(sorted(vocab1.items(), key = lambda item: item[0]))\n"
      ]
    },
    {
      "cell_type": "markdown",
      "metadata": {
        "id": "VVIBon6J0pfq"
      },
      "source": [
        "## Q3 Analyze DTM Array \n",
        "\n",
        "\n",
        "**Don't use any loop in this task**. You should use array operations to take the advantage of high performance computing."
      ]
    },
    {
      "cell_type": "markdown",
      "metadata": {
        "id": "iNkHKDTL0pfq"
      },
      "source": [
        "Define a function named `analyze_dtm(dtm, words)` which:\n",
        "* takes an array $dtm$ and $words$ as an input, where $dtm$ is the array you get in Q2 with a shape $(m \\times n)$, and $words$ contains an array of words corresponding to the columns of $dtm$.\n",
        "* calculates the sentence frequency for each word, say $j$, e.g. how many sentences contain word $j$. Save the result to array $df$ ($df$ has shape of $(n,)$ or $(1, n)$).\n",
        "* normalizes the word count per sentence: divides word count, i.e., $dtm_{i,j}$, by the total number of words in sentence $i$. Save the result as an array named $tf$ ($tf$ has shape of $(m,n)$).\n",
        "* for each $dtm_{i,j}$, calculates $tf\\_idf_{i,j} = \\frac{tf_{i, j}}{df_j}$, i.e., divide each normalized word count by the sentence frequency of the word. The reason is, if a word appears in most sentences, it does not have the discriminative power and often is called a `stop` word. The inverse of $df$ can downgrade the weight of such words. $tf\\_idf$ has shape of $(m,n)$\n",
        "* prints out the following:\n",
        "    \n",
        "    - the total number of words in the document represented by $dtm$\n",
        "    - the most frequent top 10 words in this document    \n",
        "    - words with the top 10 largest $df$ values (show words and their $df$ values)\n",
        "    - the longest sentence (i.e., the one with the most words)\n",
        "    - top-10 words with the largest $tf\\_idf$ values in the longest sentence (show words and values) \n",
        "* returns the $tf\\_idf$ array.\n",
        "\n",
        "\n",
        "\n",
        "Note, for all the steps, **do not use any loop**. Just use array functions and broadcasting for high performance computation."
      ]
    },
    {
      "cell_type": "code",
      "execution_count": null,
      "metadata": {
        "id": "_mmJuzXT0pfr"
      },
      "outputs": [],
      "source": [
        "def analyze_dtm(dtm, words, sents):\n",
        "    \n",
        " \n",
        "\n",
        "    \n",
        "    print(f\"The total number of words:\\n{dtm.sum()}\\n\")\n",
        "    \n",
        "    k = 10\n",
        "    \n",
        "    \n",
        "    print(f\"The top {k} frequent words:\\n{output}\\n\")\n",
        "    \n",
        "    k = 10\n",
        " \n",
        "\n",
        "    print(f\"The top {k} words with highest df values:\\n{output}\\n\")\n",
        "    \n",
        "    \n",
        "    k =10\n",
        "    \n",
        "    print(f\"The longest sentence :\\n{sents[idx]}\\n\")\n",
        "    \n",
        "   \n",
        "    k=10\n",
        "\n",
        "    print(f\"The top {k} words with highest tf-idf values in the longest sentece:\\n{output}\\n\")"
      ]
    },
    {
      "cell_type": "code",
      "execution_count": null,
      "metadata": {
        "id": "Z35Gw3SZ0pfr",
        "outputId": "1cacf100-82d5-4776-9e6c-c69c91cd0504"
      },
      "outputs": [
        {
          "name": "stdout",
          "output_type": "stream",
          "text": [
            "The total number of words:\n",
            "1853.0\n",
            "\n",
            "The top 10 frequent words:\n",
            "[('the', 68.0), ('to', 65.0), ('and', 52.0), ('of', 50.0), ('for', 37.0), ('ai', 25.0), ('in', 24.0), ('is', 23.0), ('are', 22.0), ('be', 20.0)]\n",
            "\n",
            "The top 10 words with highest df values:\n",
            "[('the', 46), ('to', 42), ('and', 41), ('of', 36), ('for', 32), ('in', 21), ('ai', 21), ('is', 20), ('like', 20), ('tasks', 19)]\n",
            "\n",
            "The longest sentence :\n",
            "Language models are already reshaping traditional text analytics, but GPT-3 was an especially pivotal language model because, at 10x larger than any previous model upon release, it was the first large language model, which enabled it to perform even more advanced tasks like programming and solving high school–level math problems.\n",
            "\n",
            "The top 10 words with highest tf-idf values in the longest sentece:\n",
            "[('math', 0.02), ('release', 0.02), ('enabled', 0.02), ('problems', 0.02), ('upon', 0.02), ('perform', 0.02), ('10x', 0.02), ('pivotal', 0.02), ('reshaping', 0.02), ('school–level', 0.02)]\n",
            "\n"
          ]
        }
      ],
      "source": [
        "words = np.array(all_words)\n",
        "\n",
        "analyze_dtm(dtm, words, sents.text)"
      ]
    },
    {
      "cell_type": "markdown",
      "metadata": {
        "id": "pmZnlC9Q0pfs"
      },
      "source": [
        "## Q4. Find keywords of the document (Bonus) \n",
        "\n",
        "Can you leverage $dtm$ array you generated to find a few keywords that can be used to tag this document? e.g., AI, language models, tools, etc.\n",
        "\n",
        "\n",
        "Please use a narrative to describe your ideas and also implement your ideas."
      ]
    },
    {
      "cell_type": "code",
      "execution_count": null,
      "metadata": {
        "id": "nbknsXIH0pfs",
        "outputId": "17d2a3a1-15af-45ea-c73d-30d8b424fb10"
      },
      "outputs": [
        {
          "data": {
            "text/plain": [
              "['ai',\n",
              " 'like',\n",
              " 'tasks',\n",
              " 'data',\n",
              " 'tools',\n",
              " 'language',\n",
              " 'models',\n",
              " 'research',\n",
              " 'text',\n",
              " 'model',\n",
              " 'may',\n",
              " 'language-based',\n",
              " 'even',\n",
              " 'gpt-3',\n",
              " 'elicit',\n",
              " 'still',\n",
              " 'work',\n",
              " 'better']"
            ]
          },
          "execution_count": 57,
          "metadata": {},
          "output_type": "execute_result"
        }
      ],
      "source": [
        "\n",
        "\n",
        "\n",
        "\n",
        "\n"
      ]
    },
    {
      "cell_type": "code",
      "execution_count": null,
      "metadata": {
        "id": "taQAdMgj0pft"
      },
      "outputs": [],
      "source": []
    }
  ],
  "metadata": {
    "kernelspec": {
      "display_name": "Python 3",
      "language": "python",
      "name": "python3"
    },
    "language_info": {
      "codemirror_mode": {
        "name": "ipython",
        "version": 3
      },
      "file_extension": ".py",
      "mimetype": "text/x-python",
      "name": "python",
      "nbconvert_exporter": "python",
      "pygments_lexer": "ipython3",
      "version": "3.7.6"
    },
    "colab": {
      "provenance": [],
      "collapsed_sections": []
    }
  },
  "nbformat": 4,
  "nbformat_minor": 0
}